{
 "cells": [
  {
   "cell_type": "code",
   "execution_count": null,
   "id": "b5497a02-8a4e-400b-bff8-31e205423e0a",
   "metadata": {},
   "outputs": [],
   "source": [
    "import nltk\n",
    "from nltk.tokenize import sent_tokenize ##para-->sent\n",
    "from nltk.tokenize import word_tokenize ##-->word\n",
    "from nltk.tokenize import wordpunct_tokenize ##includes punctuation\n",
    "from nltk.tokenize import TreebankWordTokenizer ##fullstop is not a seperate word except the last one"
   ]
  },
  {
   "cell_type": "code",
   "execution_count": 3,
   "id": "68a30cf2-9a67-451f-b9a9-aaa92f05ce53",
   "metadata": {},
   "outputs": [],
   "source": [
    "corpus=\"\"\"Hello, I am Gargi.\n",
    "I don't know what to type.\n",
    "So, this is what I'll type.\n",
    "\"\"\""
   ]
  },
  {
   "cell_type": "code",
   "execution_count": 98,
   "id": "e108345d-feaa-4f12-9b88-ed6aa7d31504",
   "metadata": {},
   "outputs": [],
   "source": [
    "documents=sent_tokenize(corpus)"
   ]
  },
  {
   "cell_type": "code",
   "execution_count": 76,
   "id": "797af872-494c-4213-8f64-9d8b26453a10",
   "metadata": {},
   "outputs": [
    {
     "data": {
      "text/plain": [
       "['Hello, I am Gargi.',\n",
       " \"I don't know what to type.\",\n",
       " \"So, this is what I'll type.\"]"
      ]
     },
     "execution_count": 76,
     "metadata": {},
     "output_type": "execute_result"
    }
   ],
   "source": []
  },
  {
   "cell_type": "code",
   "execution_count": null,
   "id": "a13e9f8d-5617-449b-88f8-100e648760f6",
   "metadata": {},
   "outputs": [],
   "source": [
    "words_from_para=word_tokenize(corpus)"
   ]
  },
  {
   "cell_type": "code",
   "execution_count": 77,
   "id": "5fbaed60-b32e-471a-ac56-1aecb0cf437f",
   "metadata": {},
   "outputs": [
    {
     "data": {
      "text/plain": [
       "['Hello, I am Gargi.',\n",
       " \"I don't know what to type.\",\n",
       " \"So, this is what I'll type.\"]"
      ]
     },
     "execution_count": 77,
     "metadata": {},
     "output_type": "execute_result"
    }
   ],
   "source": []
  },
  {
   "cell_type": "code",
   "execution_count": null,
   "id": "37754993-67ac-428d-b518-b33c15831b9f",
   "metadata": {},
   "outputs": [],
   "source": [
    "documents_from_doc=[]\n",
    "for sentences in documents:\n",
    "    words_from_doc.append(word_tokenize(sentences))"
   ]
  },
  {
   "cell_type": "code",
   "execution_count": 78,
   "id": "2d7d3fc8-5f0f-4e6f-aa40-9d78591147d8",
   "metadata": {},
   "outputs": [
    {
     "data": {
      "text/plain": [
       "['Hello, I am Gargi.',\n",
       " \"I don't know what to type.\",\n",
       " \"So, this is what I'll type.\"]"
      ]
     },
     "execution_count": 78,
     "metadata": {},
     "output_type": "execute_result"
    }
   ],
   "source": [
    "documents"
   ]
  },
  {
   "cell_type": "code",
   "execution_count": null,
   "id": "43a43ab5-05df-43a7-af21-4b96b927fa4a",
   "metadata": {},
   "outputs": [],
   "source": [
    "wordpunct=wordpunct_tokenize(corpus)"
   ]
  },
  {
   "cell_type": "raw",
   "id": "3bb212e9-f69c-49dc-8c0f-bcfca1dc2610",
   "metadata": {},
   "source": []
  },
  {
   "cell_type": "raw",
   "id": "8f4d5ca5-389b-4175-a0e3-69ab9e574469",
   "metadata": {},
   "source": []
  },
  {
   "cell_type": "code",
   "execution_count": 16,
   "id": "deb5726e-fa9a-4733-81d3-eaa80531a855",
   "metadata": {},
   "outputs": [],
   "source": [
    "tokenizer=TreebankWordTokenizer()\n",
    "treebankwords=tokenizer.tokenize(corpus)"
   ]
  },
  {
   "cell_type": "code",
   "execution_count": 33,
   "id": "ce69cc1d-c816-4c0a-aad0-3c6dddd8c7ab",
   "metadata": {},
   "outputs": [],
   "source": [
    "from nltk.stem import PorterStemmer\n",
    "from nltk.stem import RegexpStemmer\n",
    "from nltk.stem import SnowballStemmer"
   ]
  },
  {
   "cell_type": "code",
   "execution_count": 34,
   "id": "89809527-a0fd-4bdf-9b85-2450d9211ee2",
   "metadata": {},
   "outputs": [],
   "source": [
    "stemming=PorterStemmer()\n",
    "regexp_stem=RegexpStemmer('ing$|s$|e$|able$', min=0)\n",
    "snowball_stemmer=SnowballStemmer('english')"
   ]
  },
  {
   "cell_type": "code",
   "execution_count": 20,
   "id": "97c8e0be-c20a-4d5b-95cc-a1f1a18421a8",
   "metadata": {},
   "outputs": [
    {
     "name": "stdout",
     "output_type": "stream",
     "text": [
      "Hello-hello\n",
      ",-,\n",
      "I-i\n",
      "am-am\n",
      "Gargi-gargi\n",
      ".-.\n",
      "I-i\n",
      "don-don\n",
      "'-'\n",
      "t-t\n",
      "know-know\n",
      "what-what\n",
      "to-to\n",
      "type-type\n",
      ".-.\n",
      "So-so\n",
      ",-,\n",
      "this-thi\n",
      "is-is\n",
      "what-what\n",
      "I-i\n",
      "'-'\n",
      "ll-ll\n",
      "type-type\n",
      ".-.\n"
     ]
    }
   ],
   "source": [
    "for word in wordpunct:\n",
    "    print(word+\"-\"+stemming.stem(word))"
   ]
  },
  {
   "cell_type": "code",
   "execution_count": 32,
   "id": "8c82b7ed-3fad-4ccf-8a23-74ad34f72984",
   "metadata": {},
   "outputs": [
    {
     "data": {
      "text/plain": [
       "'eat'"
      ]
     },
     "execution_count": 32,
     "metadata": {},
     "output_type": "execute_result"
    }
   ],
   "source": [
    "regexp_stem.stem(\"eating\")"
   ]
  },
  {
   "cell_type": "code",
   "execution_count": 37,
   "id": "04bb6847-cd3f-4859-9009-c4aac6c58d15",
   "metadata": {},
   "outputs": [
    {
     "data": {
      "text/plain": [
       "'ate'"
      ]
     },
     "execution_count": 37,
     "metadata": {},
     "output_type": "execute_result"
    }
   ],
   "source": [
    "snowball_stemmer.stem(\"ate\")"
   ]
  },
  {
   "cell_type": "code",
   "execution_count": 38,
   "id": "96239ae4-cec4-420d-94ea-3508b31729fa",
   "metadata": {},
   "outputs": [],
   "source": [
    "from nltk.stem import WordNetLemmatizer"
   ]
  },
  {
   "cell_type": "code",
   "execution_count": 39,
   "id": "02447ab2-0e5e-4659-8dcf-2f9fe8595043",
   "metadata": {},
   "outputs": [],
   "source": [
    "lemmatizer=WordNetLemmatizer()"
   ]
  },
  {
   "cell_type": "code",
   "execution_count": 50,
   "id": "725ed325-cf3e-44ef-9d95-34f6116e19fe",
   "metadata": {},
   "outputs": [
    {
     "data": {
      "text/plain": [
       "'eat'"
      ]
     },
     "execution_count": 50,
     "metadata": {},
     "output_type": "execute_result"
    }
   ],
   "source": [
    "lemmatizer.lemmatize(\"ate\",'v') #crazy no"
   ]
  },
  {
   "cell_type": "code",
   "execution_count": 53,
   "id": "ee9438dc-c84e-4961-8562-37d8bdc9f551",
   "metadata": {},
   "outputs": [
    {
     "name": "stderr",
     "output_type": "stream",
     "text": [
      "[nltk_data] Downloading package stopwords to C:\\Users\\Gargi\n",
      "[nltk_data]     Joshi\\AppData\\Roaming\\nltk_data...\n",
      "[nltk_data]   Unzipping corpora\\stopwords.zip.\n"
     ]
    },
    {
     "data": {
      "text/plain": [
       "True"
      ]
     },
     "execution_count": 53,
     "metadata": {},
     "output_type": "execute_result"
    }
   ],
   "source": [
    "from nltk.corpus import stopwords\n",
    "nltk.download('stopwords')"
   ]
  },
  {
   "cell_type": "code",
   "execution_count": 56,
   "id": "cd9d846b-7053-4e0d-98a5-0cc4f30c940e",
   "metadata": {},
   "outputs": [],
   "source": [
    "stopwords=stopwords.words('english')"
   ]
  },
  {
   "cell_type": "code",
   "execution_count": 72,
   "id": "d091f678-6e72-45b7-ba81-b276161f8cb7",
   "metadata": {},
   "outputs": [
    {
     "data": {
      "text/plain": [
       "['hello , gargi .', \"n't know type .\", ', ll type .']"
      ]
     },
     "execution_count": 72,
     "metadata": {},
     "output_type": "execute_result"
    }
   ],
   "source": [
    "documents"
   ]
  },
  {
   "cell_type": "code",
   "execution_count": 108,
   "id": "23732597-2816-459f-8e7d-1cc72022c18e",
   "metadata": {},
   "outputs": [
    {
     "name": "stdout",
     "output_type": "stream",
     "text": [
      "[[('hello', 'NN'), (',', ','), ('i', 'JJ'), ('gargi', 'NN'), ('.', '.')]]\n",
      "[[('hello', 'NN'), (',', ','), ('i', 'JJ'), ('gargi', 'NN'), ('.', '.')], [('i', 'NN'), (\"n't\", 'RB'), ('know', 'VBD'), ('type', 'NN'), ('.', '.')]]\n",
      "[[('hello', 'NN'), (',', ','), ('i', 'JJ'), ('gargi', 'NN'), ('.', '.')], [('i', 'NN'), (\"n't\", 'RB'), ('know', 'VBD'), ('type', 'NN'), ('.', '.')], [('so', 'RB'), (',', ','), ('i', 'JJ'), ('ll', 'VBP'), ('type', 'NN'), ('.', '.')]]\n"
     ]
    }
   ],
   "source": [
    "present_stopwords=[]\n",
    "pos=[]\n",
    "for i in range(len(documents)):\n",
    "    words=nltk.word_tokenize(documents[i])\n",
    "    present_stopwords.append(t for t in words if t in set(stopwords))\n",
    "    words=[snowball_stemmer.stem(word) for word in words if word not in set(stopwords)]\n",
    "    #documents[i]=' '.join(words)\n",
    "    pos.append(nltk.pos_tag(words))\n",
    "    #print(pos)"
   ]
  },
  {
   "cell_type": "code",
   "execution_count": 130,
   "id": "37733726-ab66-41e1-9f4e-9fe46f64993c",
   "metadata": {},
   "outputs": [],
   "source": [
    "tagged=[]\n",
    "for i in pos:\n",
    "    for j in i:\n",
    "        tagged.append(j)"
   ]
  },
  {
   "cell_type": "code",
   "execution_count": 123,
   "id": "fdf1a7dd-d10c-48de-b67f-b0dd3764ddf7",
   "metadata": {},
   "outputs": [
    {
     "name": "stderr",
     "output_type": "stream",
     "text": [
      "[nltk_data] Downloading package maxent_ne_chunker to C:\\Users\\Gargi\n",
      "[nltk_data]     Joshi\\AppData\\Roaming\\nltk_data...\n",
      "[nltk_data]   Package maxent_ne_chunker is already up-to-date!\n"
     ]
    },
    {
     "data": {
      "text/plain": [
       "True"
      ]
     },
     "execution_count": 123,
     "metadata": {},
     "output_type": "execute_result"
    }
   ],
   "source": [
    "import nltk\n",
    "\n",
    "#nltk.download('maxent_ne_chunker_tab')\n",
    "nltk.download('maxent_ne_chunker')"
   ]
  },
  {
   "cell_type": "code",
   "execution_count": 131,
   "id": "d2b5398e-b1ba-4e90-9a41-45c61209249a",
   "metadata": {},
   "outputs": [],
   "source": [
    "nltk.ne_chunk(tagged).draw()"
   ]
  }
 ],
 "metadata": {
  "kernelspec": {
   "display_name": "Python 3 (ipykernel)",
   "language": "python",
   "name": "python3"
  },
  "language_info": {
   "codemirror_mode": {
    "name": "ipython",
    "version": 3
   },
   "file_extension": ".py",
   "mimetype": "text/x-python",
   "name": "python",
   "nbconvert_exporter": "python",
   "pygments_lexer": "ipython3",
   "version": "3.12.7"
  }
 },
 "nbformat": 4,
 "nbformat_minor": 5
}
