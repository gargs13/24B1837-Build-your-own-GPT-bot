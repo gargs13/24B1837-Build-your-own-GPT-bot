{
 "cells": [
  {
   "cell_type": "code",
   "execution_count": 15,
   "id": "e5a0457c-c1a5-4753-bb0e-894230a94905",
   "metadata": {},
   "outputs": [],
   "source": [
    "#imports\n",
    "import nltk\n",
    "from nltk import sent_tokenize, word_tokenize\n",
    "from nltk.stem import SnowballStemmer\n",
    "from nltk.stem import WordNetLemmatizer\n",
    "from nltk.corpus import stopwords\n",
    "import gensim\n",
    "from gensim.models import Word2Vec, KeyedVectors\n",
    "import gensim.downloader as api"
   ]
  },
  {
   "cell_type": "code",
   "execution_count": 14,
   "id": "65a4e92a-828e-4891-9e3e-c0353dc3b6fb",
   "metadata": {},
   "outputs": [],
   "source": [
    "snowballstemmer=SnowballStemmer('english')\n",
    "all_stopwords=stopwords.words('english')\n",
    "#wv=api.load('word2vec-google-news-300')"
   ]
  },
  {
   "cell_type": "code",
   "execution_count": 16,
   "id": "1f55ffe0-4022-4f8b-aa16-8cfec868ab1f",
   "metadata": {},
   "outputs": [],
   "source": [
    "#corpus=string(input(\"Enter corpus:\"))\n",
    "corpus=\"\"\"I have three visions for India. In 3000 years of our history, people from all over \n",
    "               the world have come and invaded us, captured our lands, conquered our minds. \n",
    "               From Alexander onwards, the Greeks, the Turks, the Moguls, the Portuguese, the British,\n",
    "               the French, the Dutch, all of them came and looted us, took over what was ours. \n",
    "               Yet we have not done this to any other nation. We have not conquered anyone. \n",
    "               We have not grabbed their land, their culture, \n",
    "               their history and tried to enforce our way of life on them. \n",
    "               Why? Because we respect the freedom of others.That is why my \n",
    "               first vision is that of freedom. I believe that India got its first vision of \n",
    "               this in 1857, when we started the War of Independence. It is this freedom that\n",
    "               we must protect and nurture and build on. If we are not free, no one will respect us.\n",
    "               My second vision for India’s development. For fifty years we have been a developing nation.\n",
    "               It is time we see ourselves as a developed nation. We are among the top 5 nations of the world\n",
    "               in terms of GDP. We have a 10 percent growth rate in most areas. Our poverty levels are falling.\n",
    "               Our achievements are being globally recognised today. Yet we lack the self-confidence to\n",
    "               see ourselves as a developed nation, self-reliant and self-assured. Isn’t this incorrect?\n",
    "               I have a third vision. India must stand up to the world. Because I believe that unless India \n",
    "               stands up to the world, no one will respect us. Only strength respects strength. We must be \n",
    "               strong not only as a military power but also as an economic power. Both must go hand-in-hand. \n",
    "               My good fortune was to have worked with three great minds. Dr. Vikram Sarabhai of the Dept. of \n",
    "               space, Professor Satish Dhawan, who succeeded him and Dr. Brahm Prakash, father of nuclear material.\n",
    "               I was lucky to have worked with all three of them closely and consider this the great opportunity of my life. \n",
    "               I see four milestones in my career\"\"\"\n",
    "\n",
    "documents=sent_tokenize(corpus.lower())\n",
    "\n",
    "words=[word_tokenize(doc) for doc in documents]\n",
    "\n",
    "for i in range(len(words)):\n",
    "    words[i]=[snowballstemmer.stem(word) for word in words[i] if word not in all_stopwords]\n"
   ]
  },
  {
   "cell_type": "code",
   "execution_count": 20,
   "id": "133f74b4-ee31-4988-84c7-00be2757e914",
   "metadata": {},
   "outputs": [],
   "source": [
    "model=Word2Vec(words, min_count=1)\n",
    "vocabulary = list(model.wv.index_to_key)"
   ]
  },
  {
   "cell_type": "code",
   "execution_count": 29,
   "id": "feb7873a-ba65-4bf4-b6a9-0844e1fd2ad7",
   "metadata": {},
   "outputs": [
    {
     "name": "stdin",
     "output_type": "stream",
     "text": [
      "vector of: freedom\n"
     ]
    },
    {
     "name": "stdout",
     "output_type": "stream",
     "text": [
      "vector of freedom is [-1.9375599e-03 -5.2759559e-03  9.4622355e-03 -9.2826653e-03\n",
      "  4.5018354e-03  5.4083504e-03 -1.4084359e-03  9.0217125e-03\n",
      "  9.8874085e-03 -5.4917703e-03 -6.0155676e-03 -6.7546070e-03\n",
      " -7.9205884e-03 -3.0480742e-03 -5.5905827e-03 -8.3466293e-03\n",
      "  7.7521213e-04  2.9883003e-03  6.4196964e-03 -2.6385314e-03\n",
      " -4.4632568e-03  1.2519773e-03  3.8014320e-04  8.1266519e-03\n",
      "  1.9520386e-04  7.2351652e-03 -8.2872258e-03  8.4366826e-03\n",
      " -1.8852501e-03  8.7051783e-03 -7.6403157e-03  1.8014639e-03\n",
      "  1.0611666e-03  4.2055079e-05 -5.1131258e-03 -9.2549818e-03\n",
      " -7.2568422e-03 -7.9822494e-03  1.9216115e-03  4.6757545e-04\n",
      " -1.8221701e-03  7.1409927e-03 -2.4865500e-03 -1.3601676e-03\n",
      " -8.8766767e-03 -9.9512432e-03  8.9536114e-03 -5.7524964e-03\n",
      " -6.3621108e-03  5.2140658e-03  6.6598356e-03 -6.8206508e-03\n",
      "  9.6962863e-04 -6.0097813e-03  1.6460125e-03 -4.3096328e-03\n",
      " -3.4391619e-03  2.1846583e-03  8.6738272e-03  6.7371186e-03\n",
      " -9.6858116e-03 -5.6149326e-03  7.8889392e-03  1.9809562e-03\n",
      " -4.2673163e-03  5.8837427e-04  9.5280139e-03 -1.0786903e-03\n",
      " -9.4334297e-03  1.6154791e-03  6.2425858e-03  6.3083591e-03\n",
      "  4.0831114e-03 -5.6540645e-03 -3.6527068e-04 -4.9612445e-05\n",
      "  4.5597749e-03 -8.0460086e-03 -8.0246590e-03  2.4955295e-04\n",
      " -8.5956659e-03  5.8042258e-03 -4.1167319e-04  1.0009218e-02\n",
      " -5.3483988e-03 -4.8220530e-04  7.7803186e-03 -4.0585902e-03\n",
      " -5.0223046e-03  1.5970605e-03  2.6583585e-03 -2.5541021e-03\n",
      "  6.4488235e-03 -7.6674554e-03  3.4214999e-03  5.0650624e-04\n",
      "  8.7218843e-03  5.9770066e-03  6.8453210e-03  7.8350790e-03]\n",
      " most similar word is [('start', 0.24831083416938782), ('protect', 0.23897284269332886), ('growth', 0.15821473300457), ('power', 0.15176427364349365), ('nation', 0.14998072385787964), ('gdp', 0.14467765390872955), ('self-confid', 0.12962117791175842), ('second', 0.12910600006580353), ('three', 0.12867949903011322), ('rate', 0.12272609770298004)]\n"
     ]
    }
   ],
   "source": [
    "vector_input=str(input(\"vector of:\"))\n",
    "vector=model.wv[vector_input]\n",
    "similar_word=model.wv.most_similar(vector_input)\n",
    "print(f\"vector of {vector_input} is {vector}\\n most similar word is {similar_word}\")"
   ]
  },
  {
   "cell_type": "code",
   "execution_count": null,
   "id": "1dfb52e8-701e-4f82-a073-28a256c9db3d",
   "metadata": {},
   "outputs": [],
   "source": []
  }
 ],
 "metadata": {
  "kernelspec": {
   "display_name": "Python 3 (ipykernel)",
   "language": "python",
   "name": "python3"
  },
  "language_info": {
   "codemirror_mode": {
    "name": "ipython",
    "version": 3
   },
   "file_extension": ".py",
   "mimetype": "text/x-python",
   "name": "python",
   "nbconvert_exporter": "python",
   "pygments_lexer": "ipython3",
   "version": "3.12.7"
  }
 },
 "nbformat": 4,
 "nbformat_minor": 5
}
